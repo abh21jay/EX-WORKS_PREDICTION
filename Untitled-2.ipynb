{
 "cells": [
  {
   "cell_type": "code",
   "execution_count": 1,
   "metadata": {},
   "outputs": [
    {
     "name": "stdout",
     "output_type": "stream",
     "text": [
      "Machining Time Test MSE: 1.0179070252739131e-11\n"
     ]
    }
   ],
   "source": [
    "import pandas as pd\n",
    "from sklearn.model_selection import train_test_split\n",
    "from sklearn.ensemble import HistGradientBoostingRegressor\n",
    "from sklearn.metrics import mean_squared_error\n",
    "import pickle\n",
    "\n",
    "# Load the dataset from CSV\n",
    "selected_columns = ['Process type', 'Part Od', 'Part ID', 'Part Width', 'Finish Wt', 'Input Weight',\n",
    "                    'Raw material cost', 'Process cost', 'Machining Time']  # Add more columns as needed\n",
    "data = pd.read_csv('/Users/abhijay/Desktop/EY_INTERNSHIP/Data_4.csv', usecols=selected_columns)  # Replace 'your_dataset.csv' with the path to your CSV file\n",
    "\n",
    "# For predicting machining time, assume 'Machining Time' is the target variable\n",
    "X_machining = data.drop(columns=['Machining Time'])\n",
    "y_machining = data['Machining Time']\n",
    "\n",
    "# Split the data for machining time into training and testing sets (80% train, 20% test)\n",
    "X_machining_train, X_machining_test, y_machining_train, y_machining_test = train_test_split(X_machining, y_machining, test_size=0.2, random_state=42)\n",
    "\n",
    "# Train the model for machining time\n",
    "model_machining = HistGradientBoostingRegressor()\n",
    "model_machining.fit(X_machining_train, y_machining_train)\n",
    "\n",
    "# Evaluate the model\n",
    "\n",
    "test_predictions_machining = model_machining.predict(X_machining_test)\n",
    "\n",
    "test_mse_machining = mean_squared_error(y_machining_test, test_predictions_machining)\n",
    "\n",
    "\n",
    "print(\"Machining Time Test MSE:\", test_mse_machining)\n",
    "\n",
    "# Save the model to disk\n",
    "with open('machining_model.pkl', 'wb') as model_file:\n",
    "    pickle.dump(model_machining, model_file)\n"
   ]
  }
 ],
 "metadata": {
  "kernelspec": {
   "display_name": "base",
   "language": "python",
   "name": "python3"
  },
  "language_info": {
   "codemirror_mode": {
    "name": "ipython",
    "version": 3
   },
   "file_extension": ".py",
   "mimetype": "text/x-python",
   "name": "python",
   "nbconvert_exporter": "python",
   "pygments_lexer": "ipython3",
   "version": "3.11.3"
  }
 },
 "nbformat": 4,
 "nbformat_minor": 2
}
